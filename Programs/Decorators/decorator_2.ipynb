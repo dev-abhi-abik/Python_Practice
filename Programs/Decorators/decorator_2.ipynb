{
 "cells": [
  {
   "cell_type": "code",
   "execution_count": 1,
   "id": "2390c64d",
   "metadata": {},
   "outputs": [],
   "source": [
    "def hello():\n",
    "    return 'Hi! Abhishek'"
   ]
  },
  {
   "cell_type": "code",
   "execution_count": 3,
   "id": "5d8869fc",
   "metadata": {},
   "outputs": [],
   "source": [
    "def other(some_other_func): #passing another function as argument to this function\n",
    "    print('Some Other Code')\n",
    "    print(some_other_func())"
   ]
  },
  {
   "cell_type": "code",
   "execution_count": 4,
   "id": "bb501663",
   "metadata": {},
   "outputs": [
    {
     "name": "stdout",
     "output_type": "stream",
     "text": [
      "Some Other Code\n",
      "Hi! Abhishek\n"
     ]
    }
   ],
   "source": [
    "other(hello)"
   ]
  },
  {
   "cell_type": "code",
   "execution_count": 5,
   "id": "986bbe18",
   "metadata": {},
   "outputs": [],
   "source": [
    "def new_decorator(original_func):\n",
    "    \n",
    "    def wrap_func():\n",
    "        print('Some code, before original function')\n",
    "        \n",
    "        original_func()\n",
    "        \n",
    "        print('Some code, after original func')\n",
    "        \n",
    "    return wrap_func"
   ]
  },
  {
   "cell_type": "code",
   "execution_count": 6,
   "id": "46bb4894",
   "metadata": {},
   "outputs": [],
   "source": [
    "def func_needs_decorator():\n",
    "    print('I want to be decorated')"
   ]
  },
  {
   "cell_type": "code",
   "execution_count": 8,
   "id": "891029ae",
   "metadata": {},
   "outputs": [
    {
     "name": "stdout",
     "output_type": "stream",
     "text": [
      "I want to be decorated\n"
     ]
    }
   ],
   "source": [
    "func_needs_decorator()"
   ]
  },
  {
   "cell_type": "code",
   "execution_count": 10,
   "id": "d0f48f3c",
   "metadata": {},
   "outputs": [
    {
     "name": "stdout",
     "output_type": "stream",
     "text": [
      "Some code, before original function\n",
      "I want to be decorated\n",
      "Some code, after original func\n"
     ]
    }
   ],
   "source": [
    "#Old syntax\n",
    "decorated_func = new_decorator(func_needs_decorator)\n",
    "decorated_func()"
   ]
  },
  {
   "cell_type": "code",
   "execution_count": 14,
   "id": "ea84f0c5",
   "metadata": {},
   "outputs": [
    {
     "name": "stdout",
     "output_type": "stream",
     "text": [
      "Some code, before original function\n",
      "I want to be decorated\n",
      "Some code, after original func\n"
     ]
    }
   ],
   "source": [
    "#The new and correct syntax\n",
    "@new_decorator\n",
    "def func_needs_decorator():\n",
    "    print('I want to be decorated')\n",
    "\n",
    "func_needs_decorator()"
   ]
  },
  {
   "cell_type": "code",
   "execution_count": null,
   "id": "d88ba628",
   "metadata": {},
   "outputs": [],
   "source": []
  }
 ],
 "metadata": {
  "kernelspec": {
   "display_name": "Python 3 (ipykernel)",
   "language": "python",
   "name": "python3"
  },
  "language_info": {
   "codemirror_mode": {
    "name": "ipython",
    "version": 3
   },
   "file_extension": ".py",
   "mimetype": "text/x-python",
   "name": "python",
   "nbconvert_exporter": "python",
   "pygments_lexer": "ipython3",
   "version": "3.8.10"
  }
 },
 "nbformat": 4,
 "nbformat_minor": 5
}
